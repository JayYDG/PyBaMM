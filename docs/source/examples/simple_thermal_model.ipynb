{
 "cells": [
  {
   "cell_type": "code",
   "execution_count": 97,
   "metadata": {},
   "outputs": [
    {
     "name": "stderr",
     "output_type": "stream",
     "text": [
      "/Users/jay_dggd/miniconda3/envs/thermal/lib/python3.11/site-packages/tqdm/auto.py:21: TqdmWarning: IProgress not found. Please update jupyter and ipywidgets. See https://ipywidgets.readthedocs.io/en/stable/user_install.html\n",
      "  from .autonotebook import tqdm as notebook_tqdm\n",
      "2023-08-06 19:05:53,421\tINFO util.py:159 -- Missing packages: ['ipywidgets']. Run `pip install -U ipywidgets`, then restart the notebook server for rich notebook output.\n"
     ]
    }
   ],
   "source": [
    "import pybamm\n",
    "import numpy as np\n",
    "from pybamm.models.submodels import thermal\n",
    "import liionpack as lp"
   ]
  },
  {
   "cell_type": "code",
   "execution_count": 98,
   "metadata": {},
   "outputs": [],
   "source": [
    "def get_thermal_mass(param):\n",
    "    # Total thickness [m]\n",
    "    Ln = (param['Negative current collector thickness [m]'] + param['Negative electrode thickness [m]'] + param['Separator thickness [m]'] +\n",
    "        param['Positive electrode thickness [m]'] + param['Positive current collector thickness [m]'])\n",
    "\n",
    "    # Area [m2]\n",
    "    Area = param['Electrode width [m]'] * param['Electrode height [m]']\n",
    "\n",
    "    # average specific heat capacity [J.kg-1.K-1]\n",
    "    avg_cp = (\n",
    "        (param['Negative current collector density [kg.m-3]'] * param['Negative current collector specific heat capacity [J.kg-1.K-1]'] * param['Negative current collector thickness [m]'] + \\\n",
    "        param['Negative electrode density [kg.m-3]'] * param['Negative electrode specific heat capacity [J.kg-1.K-1]'] * param['Negative electrode thickness [m]'] + \\\n",
    "        param['Separator density [kg.m-3]'] * param['Separator specific heat capacity [J.kg-1.K-1]'] * param['Separator thickness [m]'] + \\\n",
    "        param['Positive electrode density [kg.m-3]'] * param['Positive electrode specific heat capacity [J.kg-1.K-1]'] * param['Positive electrode thickness [m]'] + \\\n",
    "        param['Positive current collector density [kg.m-3]'] * param['Positive current collector specific heat capacity [J.kg-1.K-1]'] * param['Positive current collector thickness [m]']) \\\n",
    "        /(param['Negative current collector density [kg.m-3]'] * param['Negative current collector thickness [m]'] +\n",
    "        param['Negative electrode density [kg.m-3]'] * param['Negative electrode thickness [m]'] +\n",
    "        param['Separator density [kg.m-3]'] * param['Separator thickness [m]'] +\n",
    "        param['Positive electrode density [kg.m-3]'] * param['Positive electrode thickness [m]'] +\n",
    "        param['Positive current collector density [kg.m-3]'] * param['Positive current collector thickness [m]']))\n",
    "\n",
    "    # average density [kg.m-3]\n",
    "    avg_rho = (param['Negative current collector density [kg.m-3]'] * param['Negative current collector thickness [m]'] +\n",
    "        param['Negative electrode density [kg.m-3]'] * param['Negative electrode thickness [m]'] +\n",
    "        param['Separator density [kg.m-3]'] * param['Separator thickness [m]'] +\n",
    "        param['Positive electrode density [kg.m-3]'] * param['Positive electrode thickness [m]'] +\n",
    "        param['Positive current collector density [kg.m-3]'] * param['Positive current collector thickness [m]'])/ (\n",
    "            Ln\n",
    "        )\n",
    "    return param[\"Cell volume [m3]\"] * avg_rho *  avg_cp #thermal mass [J.K-1]"
   ]
  },
  {
   "cell_type": "code",
   "execution_count": 99,
   "metadata": {},
   "outputs": [],
   "source": [
    "def make_new_model(model, param, disc, update_input):\n",
    "  model1 = model.new_copy()\n",
    "  param1 = param.copy()\n",
    "  param1.update(update_input, check_already_exists=False)\n",
    "  model1 = param1.process_model(model1, inplace=False)\n",
    "  built_model = disc.process_model(model1, inplace=True, check_model=True)\n",
    "  return built_model"
   ]
  },
  {
   "cell_type": "code",
   "execution_count": 100,
   "metadata": {},
   "outputs": [],
   "source": [
    "output_variables = [\"Volume-averaged cell temperature [K]\", \n",
    "                    \"Ohmic heating [W.m-3]\",\n",
    "                    \"X-averaged Ohmic heating [W.m-3]\",\n",
    "                    \"Volume-averaged Ohmic heating [W.m-3]\",\n",
    "                    \"Irreversible electrochemical heating [W.m-3]\",\n",
    "                    \"X-averaged irreversible electrochemical heating [W.m-3]\",\n",
    "                    \"Volume-averaged irreversible electrochemical heating [W.m-3]\",\n",
    "                    \"Reversible heating [W.m-3]\",\n",
    "                    \"X-averaged reversible heating [W.m-3]\",\n",
    "                    \"Volume-averaged reversible heating [W.m-3]\",\n",
    "                    \"Total heating [W.m-3]\",\n",
    "                    \"X-averaged total heating [W.m-3]\",\n",
    "                    \"Volume-averaged total heating [W.m-3]\",\n",
    "                    ]"
   ]
  },
  {
   "cell_type": "code",
   "execution_count": 101,
   "metadata": {},
   "outputs": [],
   "source": [
    "options={\n",
    "            \"thermal\": \"isothermal\",\n",
    "            \"calculate heat source for isothermal models\": \"true\"\n",
    "        }\n",
    "\n",
    "model = pybamm.lithium_ion.SPMe(options=options)\n",
    "\n",
    "param = pybamm.ParameterValues(\"Chen2020\").copy()\n",
    "geometry = model.default_geometry\n",
    "submesh_types = model.default_submesh_types\n",
    "var_pts = model.default_var_pts\n",
    "spatial_methods = model.default_spatial_methods\n",
    "\n",
    "param.process_geometry(geometry)\n",
    "mesh = pybamm.Mesh(geometry, submesh_types, var_pts)\n",
    "disc = pybamm.Discretisation(mesh, spatial_methods)\n",
    "\n",
    "solutions = []"
   ]
  },
  {
   "cell_type": "code",
   "execution_count": 20,
   "metadata": {},
   "outputs": [],
   "source": [
    "current = 10\n",
    "update_input = {\n",
    "        \"Current function [A]\": current,\n",
    "        \"Ambient temperature [K]\": 310,\n",
    "        \"Initial temperature [K]\": 310,\n",
    "        \"Negative tab heat transfer coefficient [W.m-2.K-1]\": 0,\n",
    "        \"Positive tab heat transfer coefficient [W.m-2.K-1]\": 0,\n",
    "        \"Total heat transfer coefficient [W.m-2.K-1]\": 0,\n",
    "    }\n",
    "model1 = make_new_model(model, param, disc, update_input)\n",
    "\n",
    "solver = pybamm.CasadiSolver(mode=\"safe\", atol=1e-6, rtol=1e-3)\n",
    "\n",
    "step_solution = solver.step(pybamm.EmptySolution(),\n",
    "                            model1,\n",
    "                            1,\n",
    "                            npts=10,\n",
    "                            save=False,)\n",
    "\n",
    "solutions += [step_solution]\n",
    "\n"
   ]
  },
  {
   "cell_type": "code",
   "execution_count": 35,
   "metadata": {},
   "outputs": [
    {
     "data": {
      "text/plain": [
       "0.052650923746567366"
      ]
     },
     "execution_count": 35,
     "metadata": {},
     "output_type": "execute_result"
    }
   ],
   "source": [
    "t = np.linspace(0,1, 10)\n",
    "y = step_solution['X-averaged total heating [W.m-3]'](t=t)\n",
    "\n",
    "delta_t = np.trapz(y, t) * param[\"Cell volume [m3]\"]/(get_thermal_mass(param))\n",
    "delta_t"
   ]
  },
  {
   "cell_type": "code",
   "execution_count": 46,
   "metadata": {},
   "outputs": [
    {
     "data": {
      "text/plain": [
       "array(0.39791786)"
      ]
     },
     "execution_count": 46,
     "metadata": {},
     "output_type": "execute_result"
    }
   ],
   "source": [
    "step_solution[\"Resistance [Ohm]\"](t=1)"
   ]
  },
  {
   "cell_type": "code",
   "execution_count": 53,
   "metadata": {},
   "outputs": [
    {
     "data": {
      "text/plain": [
       "0.019227447697927325"
      ]
     },
     "execution_count": 53,
     "metadata": {},
     "output_type": "execute_result"
    }
   ],
   "source": [
    "(step_solution['Surface open-circuit voltage [V]'](t=1) - step_solution['Voltage [V]'](t=1))/step_solution['Current [A]'](t=1)"
   ]
  },
  {
   "cell_type": "code",
   "execution_count": 52,
   "metadata": {},
   "outputs": [
    {
     "data": {
      "text/plain": [
       "array(10.)"
      ]
     },
     "execution_count": 52,
     "metadata": {},
     "output_type": "execute_result"
    }
   ],
   "source": [
    "(step_solution['Surface open-circuit voltage [V]'](t=1) - step_solution['Voltage [V]'](t=1))/step_solution['Current [A]'](t=1)"
   ]
  },
  {
   "cell_type": "code",
   "execution_count": 61,
   "metadata": {},
   "outputs": [
    {
     "data": {
      "text/plain": [
       "array([129512.31719659, 129908.2351042 , 130304.1530118 , 131099.86302507,\n",
       "       132295.63947662, 133891.49748159, 135887.47624395, 138283.67482343,\n",
       "       141080.33761392, 144278.05345982, 147878.20673192, 151883.96736811,\n",
       "       156302.38467362, 161148.62034803, 166454.03380916, 172280.50859043,\n",
       "       178743.28705054, 186041.82182915, 194490.16691415, 204525.31181489,\n",
       "       213106.29292258,  60753.87821977,  35911.76324295,  35848.94968259,\n",
       "        35796.3910722 ,  35754.2424379 ,  35722.64196688,  35701.71011826,\n",
       "        35691.54881368,  35692.24073174,  35703.84872794,  35726.41539808,\n",
       "        35759.96279797,  35804.49232726,  35859.98477865,  35926.40054871,\n",
       "        36003.68000083,  36091.74396634,  36190.49436686,  36299.81493888,\n",
       "        46719.54176491,  83113.68535948,  77631.37410827,  71746.67077652,\n",
       "        66990.68360986,  63188.37965269,  60197.807336  ,  57913.47241059,\n",
       "        56262.70552072,  55198.5634909 ,  54692.3189845 ,  54727.17930885,\n",
       "        55293.70591214,  56386.77171592,  58003.67468121,  60143.02939383,\n",
       "        62804.14351195,  65986.6795319 ,  69690.47703631,  73915.46196428,\n",
       "        78661.60173456,  83407.74150483])"
      ]
     },
     "execution_count": 61,
     "metadata": {},
     "output_type": "execute_result"
    }
   ],
   "source": [
    "step_solution['Total heating [W.m-3]'](t=1)"
   ]
  },
  {
   "cell_type": "code",
   "execution_count": 63,
   "metadata": {},
   "outputs": [
    {
     "data": {
      "text/plain": [
       "array(65850.13384762)"
      ]
     },
     "execution_count": 63,
     "metadata": {},
     "output_type": "execute_result"
    }
   ],
   "source": [
    "step_solution['Volume-averaged irreversible electrochemical heating [W.m-3]'](t=1)"
   ]
  },
  {
   "cell_type": "code",
   "execution_count": 64,
   "metadata": {},
   "outputs": [
    {
     "data": {
      "text/plain": [
       "array(27368.55440138)"
      ]
     },
     "execution_count": 64,
     "metadata": {},
     "output_type": "execute_result"
    }
   ],
   "source": [
    "step_solution[\"Volume-averaged Ohmic heating [W.m-3]\"](t=1)"
   ]
  },
  {
   "cell_type": "code",
   "execution_count": 65,
   "metadata": {},
   "outputs": [
    {
     "data": {
      "image/png": "[encoded data removed]",
      "text/plain": [
       "<IPython.core.display.Image object>"
      ]
     },
     "execution_count": 65,
     "metadata": {},
     "output_type": "execute_result"
    }
   ],
   "source": [
    "from IPython import display\n",
    "display.Image(\"Two Bat Circuit.png\")"
   ]
  },
  {
   "cell_type": "markdown",
   "metadata": {},
   "source": [
    "$I_1 = \\frac{I*R_2 + V_2 - V_1}{R_1 + R_{s1} + R_2}$\n",
    "\n",
    "$I_2 = I - I_1$\n",
    "\n",
    "$R_1 = R_{p1} + R_{bat1}$\n",
    "\n",
    "$R_2 = R_{p2} + R_{bat2}$"
   ]
  },
  {
   "cell_type": "code",
   "execution_count": 114,
   "metadata": {},
   "outputs": [],
   "source": [
    "def thermal_simulation(parameter_values=None):\n",
    "    \"\"\"\n",
    "    Create a Basic PyBaMM simulation set up for integration with liionpack\n",
    "\n",
    "    Args:\n",
    "        parameter_values (pybamm.ParameterValues):\n",
    "            The default is None.\n",
    "\n",
    "    Returns:\n",
    "        pybamm.Simulation:\n",
    "            A simulation that can be solved individually or passed into the\n",
    "            liionpack solve method\n",
    "\n",
    "    \"\"\"\n",
    "    options={\n",
    "            \"thermal\": \"isothermal\",\n",
    "            \"calculate heat source for isothermal models\": \"true\"\n",
    "        }\n",
    "\n",
    "    # Create the pybamm model\n",
    "    model = pybamm.lithium_ion.SPMe(options=options)\n",
    "\n",
    "    # Add events to the model\n",
    "    model = lp.add_events_to_model(model)\n",
    "\n",
    "    # Set up parameter values\n",
    "    if parameter_values is None:\n",
    "        param = pybamm.ParameterValues(\"Chen2020\")\n",
    "    else:\n",
    "        param = parameter_values.copy()\n",
    "\n",
    "    # Set up solver and simulation\n",
    "    solver = pybamm.CasadiSolver(mode=\"safe\")\n",
    "    sim = pybamm.Simulation(\n",
    "        model=model,\n",
    "        parameter_values=param,\n",
    "        solver=solver,\n",
    "    )\n",
    "    return sim\n",
    "\n",
    "\n",
    "def update_params(param, curr, cell_temp, update=True):\n",
    "    update_input = {\n",
    "        \"Current function [A]\": curr,\n",
    "        \"Ambient temperature [K]\": cell_temp,\n",
    "        \"Initial temperature [K]\": cell_temp,\n",
    "        \"Negative tab heat transfer coefficient [W.m-2.K-1]\": 0,\n",
    "        \"Positive tab heat transfer coefficient [W.m-2.K-1]\": 0,\n",
    "        \"Total heat transfer coefficient [W.m-2.K-1]\": 0,\n",
    "    }\n",
    "    if update:\n",
    "        param.update(update_input, check_already_exists=False)\n",
    "        return None\n",
    "\n",
    "def _create_casadi_objects_V2(inputs, sim, dt, Nspm, nproc, variable_names, mapped):\n",
    "    \"\"\"\n",
    "    Internal function to produce the casadi objects in their mapped form for\n",
    "    parallel evaluation\n",
    "\n",
    "    Args:\n",
    "        inputs (dict):\n",
    "            initial guess for inputs (not used for simulation).\n",
    "        sim (pybamm.Simulation):\n",
    "            A PyBaMM simulation object that contains the model, parameter values,\n",
    "            solver, solution etc.\n",
    "        dt (float):\n",
    "            The time interval (in seconds) for a single timestep. Fixed throughout\n",
    "            the simulation\n",
    "        Nspm (int):\n",
    "            Number of individual batteries in the pack.\n",
    "        nproc (int):\n",
    "            Number of parallel processes to map to.\n",
    "        variable_names (list):\n",
    "            Variables to evaluate during solve. Must be a valid key in the\n",
    "            model.variables\n",
    "        mapped (bool):\n",
    "            Use the mapped casadi objects, default is True\n",
    "\n",
    "    Returns:\n",
    "        integrator (mapped casadi.integrator):\n",
    "            Solves an initial value problem (IVP) coupled to a terminal value\n",
    "            problem with differential equation given as an implicit ODE coupled\n",
    "            to an algebraic equation and a set of quadratures\n",
    "        variables_fn (mapped variables evaluator):\n",
    "            evaluates the simulation and output variables. see casadi function\n",
    "        t_eval (np.ndarray):\n",
    "            Float array of times to evaluate.\n",
    "            times to evaluate in a single step, starting at zero for each step\n",
    "        events_fn (mapped events evaluator):\n",
    "            evaluates the event variables. see casadi function\n",
    "\n",
    "    \"\"\"\n",
    "    solver = sim.solver\n",
    "    # Initial solution - this builds the model behind the scenes\n",
    "    sim.build()\n",
    "    initial_solutions = []\n",
    "    init_sol = sim.step(\n",
    "        dt=1e-6, save=False, starting_solution=None, inputs=inputs[0]\n",
    "    ).last_state\n",
    "    # evaluate initial condition\n",
    "    model = sim.built_model\n",
    "    y0_total_size = (\n",
    "        model.len_rhs + model.len_rhs_sens + model.len_alg + model.len_alg_sens\n",
    "    )\n",
    "    y_zero = np.zeros((y0_total_size, 1))\n",
    "    for inpt in inputs:\n",
    "        inputs_casadi = casadi.vertcat(*[x for x in inpt.values()])\n",
    "        initial_solutions.append(init_sol.copy())\n",
    "        _init = model.initial_conditions_eval(0, y_zero, inputs_casadi)\n",
    "        initial_solutions[-1].y[:] = _init\n",
    "\n",
    "    # Step model forward dt seconds\n",
    "    t_eval = np.linspace(0, dt, 11)\n",
    "\n",
    "    # No external variables - Temperature solved as lumped model in pybamm\n",
    "    # External variables could (and should) be used if battery thermal problem\n",
    "    # Includes conduction with any other circuits or neighboring batteries\n",
    "    # inp_and_ext.update(external_variables)\n",
    "    inp_and_ext = inputs\n",
    "\n",
    "    # Code to create mapped integrator\n",
    "    integrator = solver.create_integrator(\n",
    "        sim.built_model, inputs=inp_and_ext, t_eval=t_eval\n",
    "    )\n",
    "    if mapped:\n",
    "        integrator = integrator.map(Nspm, \"thread\", nproc)\n",
    "    # Get the input parameter order\n",
    "    ip_order = inputs[0].keys()\n",
    "    # Variables function for parallel evaluation\n",
    "    casadi_objs = sim.built_model.export_casadi_objects(\n",
    "        variable_names=variable_names, input_parameter_order=ip_order\n",
    "    )\n",
    "    variables = casadi_objs[\"variables\"]\n",
    "    t, x, z, p = (\n",
    "        casadi_objs[\"t\"],\n",
    "        casadi_objs[\"x\"],\n",
    "        casadi_objs[\"z\"],\n",
    "        casadi_objs[\"inputs\"],\n",
    "    )\n",
    "    variables_stacked = casadi.vertcat(*variables.values())\n",
    "    variables_fn = casadi.Function(\"variables\", [t, x, z, p], [variables_stacked])\n",
    "    if mapped:\n",
    "        variables_fn = variables_fn.map(Nspm, \"thread\", nproc)\n",
    "\n",
    "    # Look for events in model variables and create a function to evaluate them\n",
    "    all_vars = sorted(sim.model.variables.keys())\n",
    "    event_vars = [v for v in all_vars if \"Event\" in v]\n",
    "    if len(event_vars) > 0:\n",
    "        # Variables function for parallel evaluation\n",
    "        casadi_objs = sim.built_model.export_casadi_objects(\n",
    "            variable_names=variable_names, input_parameter_order=ip_order\n",
    "        )\n",
    "        events = casadi_objs[\"variables\"]\n",
    "        t, x, z, p = (\n",
    "            casadi_objs[\"t\"],\n",
    "            casadi_objs[\"x\"],\n",
    "            casadi_objs[\"z\"],\n",
    "            casadi_objs[\"inputs\"],\n",
    "        )\n",
    "        events_stacked = casadi.vertcat(*events.values())\n",
    "        events_fn = casadi.Function(\"variables\", [t, x, z, p], [events_stacked])\n",
    "        if mapped:\n",
    "            events_fn = events_fn.map(Nspm, \"thread\", nproc)\n",
    "    else:\n",
    "        events_fn = None\n",
    "\n",
    "    output = {\n",
    "        \"integrator\": integrator,\n",
    "        \"variables_fn\": variables_fn,\n",
    "        \"t_eval\": t_eval,\n",
    "        \"event_names\": event_vars,\n",
    "        \"events_fn\": events_fn,\n",
    "        \"initial_solutions\": initial_solutions,\n",
    "    }\n",
    "    return output\n"
   ]
  },
  {
   "cell_type": "code",
   "execution_count": 112,
   "metadata": {},
   "outputs": [],
   "source": [
    "def get_I1(circuit_dict):\n",
    "    I = circuit_dict[\"I\"]\n",
    "    R2 = circuit_dict[\"R2\"]\n",
    "    V2 = circuit_dict[\"V2\"]\n",
    "    V1 = circuit_dict[\"V1\"]\n",
    "    R1 = circuit_dict[\"R1\"]\n",
    "    Rs1 = circuit_dict[\"Rs1\"]\n",
    "    return (I*R2 + V2 - V1) / (R1 + Rs1 + R2)\n",
    "\n",
    "def get_I2(circuit_dict):\n",
    "    I1 = circuit_dict[\"I1\"]\n",
    "    return circuit_dict[\"I\"] - I1\n",
    "\n",
    "def get_R1(circuit_dict):\n",
    "    return circuit_dict[\"Rs1\"] + circuit_dict[\"Rbat1\"]\n",
    "\n",
    "def get_R2(circuit_dict):\n",
    "    return circuit_dict[\"Rp2\"] + circuit_dict[\"Rbat2\"]\n",
    "\n",
    "def update_circuit_all(circuit_dict):\n",
    "    circuit_dict[\"R1\"] = get_R1(circuit_dict)\n",
    "    circuit_dict[\"R2\"] = get_R2(circuit_dict)\n",
    "    circuit_dict[\"I1\"] = get_I1(circuit_dict)\n",
    "    circuit_dict[\"I2\"] = get_I2(circuit_dict)\n",
    "    return circuit_dict\n",
    "\n",
    "\n",
    "circuit_dict = {\"Rp1\":1e-5, \"Rp2\":1e-5, \"Rs1\":1e-5, \"Rbat1\":1e-5, \"Rbat2\":1e-5, \"V1\":4.2, \"V2\":4.2, \"I\":1, \"I1\":0, \"I2\":0}"
   ]
  },
  {
   "cell_type": "code",
   "execution_count": 124,
   "metadata": {},
   "outputs": [],
   "source": [
    "## Solve for the initial current\n",
    "current = 10\n",
    "\n",
    "circuit_dict[\"I\"] = 10\n",
    "\n",
    "circuit_dict = update_circuit_all(circuit_dict)\n",
    "\n",
    "V_ocv = [0, 0]\n",
    "Rin = [0, 0]\n",
    "Iinput = [circuit_dict[\"I1\"], circuit_dict[\"I2\"]]\n",
    "ini_SOC = [0.5, 0.5]\n",
    "params = [pybamm.ParameterValues(\"Chen2020\").copy(), pybamm.ParameterValues(\"Chen2020\").copy()]\n",
    "cell_T = [310, 310]\n",
    "\n",
    "initial_solutions = []\n",
    "\n",
    "## Begin Initial Solve\n",
    "for index in range(2):\n",
    "    param = params[index]\n",
    "    _, _ = lp.update_init_conc(param, SoC=ini_SOC[index], update=True)\n",
    "    _ = update_params(param, Iinput[index], cell_T[index])\n",
    "    sim = thermal_simulation(param)\n",
    "    casadi_objs = cco(\n",
    "            inputs, sim, dt, Nspm, nproc, variable_names, mapped\n",
    "    )\n",
    "    initial_solutions += [sim.step(\n",
    "        dt=1e-6, save=False, starting_solution=None\n",
    "    ).last_state]\n"
   ]
  },
  {
   "cell_type": "code",
   "execution_count": 151,
   "metadata": {},
   "outputs": [
    {
     "data": {
      "text/plain": [
       "array(nan)"
      ]
     },
     "execution_count": 151,
     "metadata": {},
     "output_type": "execute_result"
    }
   ],
   "source": [
    "initial_solutions[0].last_state[\"Surface open-circuit voltage [V]\"](t=10)"
   ]
  },
  {
   "cell_type": "markdown",
   "metadata": {},
   "source": [
    "$$\n",
    "  \\frac{\\partial T}{\\partial t} \\rho c_p = \\nabla \\cdot (k \\nabla T),\n",
    "$$\n",
    "with the following boundary and initial conditions:\n",
    "$$\n",
    "  \\left.\\frac{\\partial T}{\\partial x}\\right\\vert_{x=0} = 0, \\quad \\left. k \\frac{\\partial T}{\\partial x}\\right\\vert_{x=1} =   h(T\\vert_{x=1} - Tair), \\quad \\left.T\\right\\vert_{t=0} = T_0,\n",
    "$$\n",
    "where $c$ is the concentration, $r$ the radial coordinate, $t$ time, $R$ the particle radius, $D$ the diffusion coefficient, $j$ the interfacial current density, $F$ Faraday's constant, and $c_0$ the initial concentration. \n",
    "\n",
    "In this example we use the following parameters:\n",
    "\n",
    "| Symbol | Units              | Value                                          |\n",
    "|:-------|:-------------------|:-----------------------------------------------|\n",
    "| $k$      | W.K-1.m-1        | $10 \\times 10^{-3}$                            |\n",
    "| $\\rho$   | kg.m-3           | $1 \\times 10^{3}$                          |\n",
    "| $c_p$    | J.kg-1.K-1       | $4.186 \\times 10^{3}$                                          |\n",
    "| $h$      | W.K-1.m-2     | $10 \\times 10^{-3}$                                        |\n",
    "| $Tair$    | K    | 310                          |\n",
    "| $T_0$    | K    | 300                          |"
   ]
  },
  {
   "cell_type": "code",
   "execution_count": 423,
   "metadata": {},
   "outputs": [],
   "source": [
    "import pybamm\n",
    "import numpy as np\n",
    "import matplotlib.pyplot as plt\n",
    "\n",
    "model = pybamm.BaseModel()\n",
    "\n",
    "L = pybamm.Parameter(\"Thickness [m]\")\n",
    "k = pybamm.Parameter(\"Thermal conductivity [W.K-1.m-1]\")\n",
    "rho = pybamm.Parameter(\"Density [kg.m-3]\")\n",
    "cp = pybamm.Parameter(\"Heat capacity [J.kg-1.K-1]\")\n",
    "h = pybamm.Parameter(\"Heat transfer coefficient [W.K-1.m-2]\")\n",
    "Tair = pybamm.Parameter(\"Air temp [K]\")\n",
    "\n",
    "T = pybamm.Variable(\"Temperature [K]\", domain=\"thickness\")\n",
    "T0 = 30\n",
    "\n",
    "# Thermal flux\n",
    "dTdt = k * pybamm.div(pybamm.grad(T))/rho/cp  # flux\n",
    "model.rhs = {T: dTdt}\n",
    "\n",
    "lbc = pybamm.Scalar(0)\n",
    "\n",
    "rbc = -h*(pybamm.surf(T)-Tair)/k\n",
    "\n",
    "model.boundary_conditions = {T: {\"left\": (lbc, \"Neumann\"), \"right\": (rbc, \"Dirichlet\")}}\n",
    "\n",
    "model.initial_conditions = {T: T0}"
   ]
  },
  {
   "cell_type": "code",
   "execution_count": 424,
   "metadata": {},
   "outputs": [],
   "source": [
    "model.variables = {\n",
    "    \"Temperature [K]\": T,\n",
    "    \"Surface Temperature [K]\": pybamm.surf(T),\n",
    "}\n",
    "\n",
    "param = pybamm.ParameterValues(\n",
    "    {\n",
    "        \"Thickness [m]\": 1.0,\n",
    "        \"Thermal conductivity [W.K-1.m-1]\": 100,\n",
    "        \"Density [kg.m-3]\": 1e3,\n",
    "        \"Heat capacity [J.kg-1.K-1]\": 4.186e3,\n",
    "        \"Heat transfer coefficient [W.K-1.m-2]\": 10,\n",
    "        \"Air temp [K]\": 310,\n",
    "    }\n",
    ")\n",
    "\n",
    "x = pybamm.SpatialVariable(\"x\", domain=[\"thickness\"], coord_sys=\"cartesian\")\n",
    "geometry = {\"thickness\": {x: {\"min\": pybamm.Scalar(0), \"max\": L}}}\n",
    "\n",
    "param.process_model(model)\n",
    "param.process_geometry(geometry)"
   ]
  },
  {
   "cell_type": "code",
   "execution_count": 425,
   "metadata": {},
   "outputs": [
    {
     "data": {
      "text/plain": [
       "<pybamm.models.base_model.BaseModel at 0x13d839110>"
      ]
     },
     "execution_count": 425,
     "metadata": {},
     "output_type": "execute_result"
    }
   ],
   "source": [
    "submesh_types = {\"thickness\": pybamm.Uniform1DSubMesh}\n",
    "var_pts = {x: 3}\n",
    "mesh = pybamm.Mesh(geometry, submesh_types, var_pts)\n",
    "\n",
    "spatial_methods = {\"thickness\": pybamm.FiniteVolume()}\n",
    "disc = pybamm.Discretisation(mesh, spatial_methods)\n",
    "disc.process_model(model)"
   ]
  },
  {
   "cell_type": "code",
   "execution_count": 426,
   "metadata": {},
   "outputs": [
    {
     "data": {
      "image/png": "[encoded data removed]",
      "text/plain": [
       "<Figure size 1300x400 with 2 Axes>"
      ]
     },
     "metadata": {},
     "output_type": "display_data"
    },
    {
     "name": "stdout",
     "output_type": "stream",
     "text": [
      "[29.9952217  29.93561082 29.37936431]\n"
     ]
    }
   ],
   "source": [
    "# solve\n",
    "solver = pybamm.ScipySolver()\n",
    "t = np.linspace(0, 1000, 1001)\n",
    "solution = solver.solve(model, t)\n",
    "\n",
    "# post-process, so that the solution can be called at any time t or space r\n",
    "# (using interpolation)\n",
    "T = solution[\"Temperature [K]\"]\n",
    "T_surf = solution[\"Surface Temperature [K]\"]\n",
    "\n",
    "# plot\n",
    "fig, (ax1, ax2) = plt.subplots(1, 2, figsize=(13, 4))\n",
    "\n",
    "ax1.plot(solution.t, T_surf(solution.t))\n",
    "ax1.set_xlabel(\"Time [s]\")\n",
    "ax1.set_ylabel(\"Surface Temperature [K]\")\n",
    "\n",
    "x = mesh[\"thickness\"].nodes # radial position\n",
    "time = t.max()  # time in seconds\n",
    "ax2.plot(x * 1e3, T(t=time, x=x), label=\"t={}[s]\".format(time))\n",
    "ax2.set_xlabel(\"Thickness [mm]\")\n",
    "ax2.set_ylabel(\"Temperature [K]\")\n",
    "ax2.legend()\n",
    "\n",
    "plt.tight_layout()\n",
    "plt.show()\n",
    "\n",
    "print(T(t=time, x=x))"
   ]
  },
  {
   "cell_type": "markdown",
   "metadata": {},
   "source": [
    "### CV Ghost Cell Method\n",
    "#### 3 cv\n",
    "#### T1:\n",
    "\n",
    "$$\n",
    "  \\frac{\\partial T1}{\\partial t} = \\frac{k}{\\rho c_p} \\frac{1}{\\Delta x} \\left(\\frac{T2-T1}{\\Delta x} \\right) + Q_1 \\frac{1}{\\rho c_p}\n",
    "$$\n",
    "\n",
    "$$\n",
    "  \\frac{\\partial T2}{\\partial t} = \\frac{k}{\\rho c_p} \\frac{1}{\\Delta x} \\left(\\frac{T3-T2}{\\Delta x} - \\frac{T2-T1}{\\Delta x}\\right) + Q_2 \\frac{1}{\\rho c_p}\n",
    "$$\n",
    "\n",
    "$$\n",
    "  \\frac{\\partial T3}{\\partial t} = \\frac{1}{\\rho c_p} \\frac{Tair-T3}{\\Delta x} h - \\frac{k}{\\rho c_p}\\frac{1}{\\Delta x}\\left(\\frac{T3-T2}{\\Delta x} \\right) + Q_3 \\frac{1}{\\rho c_p}\n",
    "$$\n",
    "\n",
    "\n",
    "In this example we use the following parameters:\n",
    "\n",
    "| Symbol | Units              | Value                                          |\n",
    "|:-------|:-------------------|:-----------------------------------------------|\n",
    "| $k$      | W.K-1.m-1        | $10 \\times 10^{-3}$                            |\n",
    "| $\\rho$   | kg.m-3           | $1 \\times 10^{3}$                          |\n",
    "| $c_p$    | J.kg-1.K-1       | $4.186 \\times 10^{3}$                                          |\n",
    "| $h$      | W.K-1.m-2     | $10 \\times 10^{-3}$                                        |\n",
    "| $Tair$    | K    | 310                          |\n",
    "| $T_0$    | K    | 300                          |\n",
    "| $Q_{1,2,3}$    | W.m-3    | 0                          |"
   ]
  },
  {
   "cell_type": "code",
   "execution_count": 427,
   "metadata": {},
   "outputs": [],
   "source": [
    "import pybamm\n",
    "import numpy as np\n",
    "import matplotlib.pyplot as plt\n",
    "\n",
    "model = pybamm.BaseModel()\n",
    "\n",
    "k = pybamm.Parameter(\"Thermal conductivity [W.K-1.m-1]\")\n",
    "rho = pybamm.Parameter(\"Density [kg.m-3]\")\n",
    "cp = pybamm.Parameter(\"Heat capacity [J.kg-1.K-1]\")\n",
    "h = pybamm.Parameter(\"Heat transfer coefficient [W.K-1.m-2]\")\n",
    "Tair = pybamm.Parameter(\"Air temp [K]\")\n",
    "\n",
    "T1 = pybamm.Variable(\"Temperature T1 [K]\")\n",
    "T2 = pybamm.Variable(\"Temperature T2 [K]\")\n",
    "T3 = pybamm.Variable(\"Temperature T3 [K]\")\n",
    "T0 = 30\n",
    "\n",
    "delta_x = 1/3\n",
    "\n",
    "# Thermal flux\n",
    "dT1dt = k/rho/cp/delta_x*(T2-T1)/delta_x\n",
    "dT2dt = k/rho/cp/delta_x*((T3-T2)/delta_x-(T2-T1)/delta_x)\n",
    "dT3dt = 1/rho/cp*(Tair-T3)/delta_x*h-k/rho/cp/delta_x*(T3-T2)/delta_x\n",
    "model.rhs = {T1: dT1dt, T2: dT2dt, T3: dT3dt}\n",
    "\n",
    "model.initial_conditions = {T1: T0, T2: T0, T3: T0}\n",
    "\n",
    "\n",
    "param = pybamm.ParameterValues(\n",
    "    {\n",
    "        \"Thickness [m]\": 1.0,\n",
    "        \"Thermal conductivity [W.K-1.m-1]\": 100,\n",
    "        \"Density [kg.m-3]\": 1e3,\n",
    "        \"Heat capacity [J.kg-1.K-1]\": 4.186e3,\n",
    "        \"Heat transfer coefficient [W.K-1.m-2]\": 10,\n",
    "        \"Air temp [K]\": 310,\n",
    "    }\n",
    ")\n",
    "param.process_model(model)\n",
    "\n",
    "model.variables = {\n",
    "    \"Temperature T1 [K]\": T1,\n",
    "    \"Temperature T2 [K]\": T2,\n",
    "    \"Temperature T3 [K]\": T3,\n",
    "}\n",
    "\n",
    "\n",
    "disc = pybamm.Discretisation()  # use the default discretisation\n",
    "disc.process_model(model)\n",
    "\n",
    "solver = pybamm.CasadiSolver()\n",
    "solution = solver.solve(model, np.linspace(0, 1000, 1001))"
   ]
  },
  {
   "cell_type": "code",
   "execution_count": 428,
   "metadata": {},
   "outputs": [],
   "source": [
    "T1_sol = solution[\"Temperature T1 [K]\"](t=np.linspace(0, 1000, 1001))\n",
    "T2_sol = solution[\"Temperature T2 [K]\"](t=np.linspace(0, 1000, 1001))\n",
    "T3_sol = solution[\"Temperature T3 [K]\"](t=np.linspace(0, 1000, 1001))"
   ]
  },
  {
   "cell_type": "code",
   "execution_count": 429,
   "metadata": {},
   "outputs": [
    {
     "data": {
      "text/plain": [
       "[<matplotlib.lines.Line2D at 0x13d973bd0>]"
      ]
     },
     "execution_count": 429,
     "metadata": {},
     "output_type": "execute_result"
    },
    {
     "data": {
      "image/png": "[encoded data removed]",
      "text/plain": [
       "<Figure size 640x480 with 1 Axes>"
      ]
     },
     "metadata": {},
     "output_type": "display_data"
    }
   ],
   "source": [
    "plt.plot(np.array([1/6, 1/2, 5/6])*1000, [T1_sol[-1], T2_sol[-1], T3_sol[-1]])"
   ]
  },
  {
   "cell_type": "code",
   "execution_count": 430,
   "metadata": {},
   "outputs": [
    {
     "data": {
      "text/plain": [
       "[30.012540237765187, 30.175479479221114, 31.811960145428568]"
      ]
     },
     "execution_count": 430,
     "metadata": {},
     "output_type": "execute_result"
    }
   ],
   "source": [
    "[T1_sol[-1], T2_sol[-1], T3_sol[-1]]"
   ]
  },
  {
   "cell_type": "code",
   "execution_count": null,
   "metadata": {},
   "outputs": [],
   "source": []
  }
 ],
 "metadata": {
  "kernelspec": {
   "display_name": "thermal",
   "language": "python",
   "name": "python3"
  },
  "language_info": {
   "codemirror_mode": {
    "name": "ipython",
    "version": 3
   },
   "file_extension": ".py",
   "mimetype": "text/x-python",
   "name": "python",
   "nbconvert_exporter": "python",
   "pygments_lexer": "ipython3",
   "version": "3.11.4"
  },
  "orig_nbformat": 4
 },
 "nbformat": 4,
 "nbformat_minor": 2
}
